{
  "nbformat": 4,
  "nbformat_minor": 0,
  "metadata": {
    "kernelspec": {
      "display_name": "Python 3",
      "language": "python",
      "name": "python3"
    },
    "language_info": {
      "codemirror_mode": {
        "name": "ipython",
        "version": 3
      },
      "file_extension": ".py",
      "mimetype": "text/x-python",
      "name": "python",
      "nbconvert_exporter": "python",
      "pygments_lexer": "ipython3",
      "version": "3.7.4"
    },
    "colab": {
      "name": "streetcar_data_preparation-geocode.ipynb",
      "provenance": [],
      "include_colab_link": true
    }
  },
  "cells": [
    {
      "cell_type": "markdown",
      "metadata": {
        "id": "view-in-github",
        "colab_type": "text"
      },
      "source": [
        "<a href=\"https://colab.research.google.com/github/deep-diver/deeplearning-with-structured-data/blob/master/notebooks/streetcar_data_preparation-geocode.ipynb\" target=\"_parent\"><img src=\"https://colab.research.google.com/assets/colab-badge.svg\" alt=\"Open In Colab\"/></a>"
      ]
    },
    {
      "cell_type": "code",
      "metadata": {
        "id": "5PigrXbG9M_C",
        "outputId": "e7bf1e34-ffd5-442c-9760-20c88efa9db6",
        "colab": {
          "base_uri": "https://localhost:8080/"
        }
      },
      "source": [
        "!git clone https://github.com/deep-diver/deeplearning-with-structured-data.git\n",
        "!mv deeplearning-with-structured-data/* ./"
      ],
      "execution_count": 3,
      "outputs": [
        {
          "output_type": "stream",
          "name": "stdout",
          "text": [
            "Cloning into 'deeplearning-with-structured-data'...\n",
            "remote: Enumerating objects: 285, done.\u001b[K\n",
            "remote: Counting objects: 100% (285/285), done.\u001b[K\n",
            "remote: Compressing objects: 100% (147/147), done.\u001b[K\n",
            "remote: Total 285 (delta 122), reused 262 (delta 106), pack-reused 0\u001b[K\n",
            "Receiving objects: 100% (285/285), 21.37 MiB | 24.37 MiB/s, done.\n",
            "Resolving deltas: 100% (122/122), done.\n"
          ]
        }
      ]
    },
    {
      "cell_type": "markdown",
      "metadata": {
        "id": "2vXREsty8CqS"
      },
      "source": [
        "# 경전철 지연 예측 - 지역코드 관련 데이터 준비\n",
        "\n",
        "미래의 지연을 예측을 예측하고, 지연 발생에 대한 조언을 구하고자 토론토 교통국(TTC)의 경전철 지연 데이터 중 2014년 - 현재까지를 포함한 데이터셋을 사용합니다.\n",
        "\n",
        "원본 데이터셋의 위치: https://open.toronto.ca/dataset/ttc-streetcar-delay-data/\n",
        "\n",
        "이 노트북은 자유형식 텍스트로 표현된 위치 정보를 위도/경도에 매핑하는 데이터 준비 과정을 다룹니다.\n",
        "\n",
        "- 파이썬용 구글 맵스 API 웹 서비스를 사용합니다(https://github.com/googlemaps/google-maps-services-python)\n",
        "- 위도/경도 값을 얻은 뒤 데이터셋에 해당 데이터를 담을 신규 열을 생성합니다."
      ]
    },
    {
      "cell_type": "markdown",
      "metadata": {
        "id": "528UETOd8CqV"
      },
      "source": [
        "# 경전철 경로(routes)\n",
        "\n",
        "출처: https://www.ttc.ca/Routes/Streetcars.jsp\n",
        "\n",
        "<table style=\"border: none\" align=\"left\">\n",
        "   </tr>\n",
        "   <tr style=\"border: none\">\n",
        "       <th style=\"border: none\"><img src=\"https://raw.githubusercontent.com/ryanmark1867/streetcarnov3/master/streetcar%20routes.jpg\" width=\"600\" alt=\"Icon\"> </th>\n",
        "   </tr>\n",
        "</table>"
      ]
    },
    {
      "cell_type": "markdown",
      "metadata": {
        "id": "kmTcLtoz8CqV"
      },
      "source": [
        "# 이전 데이터 준비 단계에서 저장한 데이터프레임을 불러오기"
      ]
    },
    {
      "cell_type": "code",
      "metadata": {
        "id": "BqG4upt68CqV"
      },
      "source": [
        "# 선형 대수용 라이브러리\n",
        "import numpy as np \n",
        "\n",
        "# 데이터 전처리용 라이브러리로 CSV 파일 입출력을 위해 불러옵니다(예. pd.read_csv)\n",
        "import pandas as pd \n",
        "import matplotlib.pyplot as plt\n",
        "# import seaborn as sns\n",
        "import datetime\n",
        "import os\n",
        "\n",
        "remove_bad_values = False\n",
        "city_name = 'Toronto'\n"
      ],
      "execution_count": 1,
      "outputs": []
    },
    {
      "cell_type": "code",
      "metadata": {
        "id": "WOipkgmy8CqW",
        "outputId": "aa6a22fb-ccc9-4df6-d063-24996089c60d",
        "colab": {
          "base_uri": "https://localhost:8080/"
        }
      },
      "source": [
        "# 노트북이 저장된 디렉터리에 접근합니다\n",
        "rawpath = os.getcwd()\n",
        "\n",
        "# Google Colab을 사용하지 않는 경우, 아래의 코드를 주석처리 합니다\n",
        "rawpath = os.path.join(rawpath, 'notebooks')\n",
        "print(\"노트북이 저장된 경로: \",rawpath)"
      ],
      "execution_count": 4,
      "outputs": [
        {
          "output_type": "stream",
          "name": "stdout",
          "text": [
            "노트북이 저장된 경로:  /content/notebooks\n"
          ]
        }
      ]
    },
    {
      "cell_type": "code",
      "metadata": {
        "id": "M6vxH5tZ8CqX",
        "outputId": "ca4910bd-06ee-44ea-888f-8b8f7a38035c",
        "colab": {
          "base_uri": "https://localhost:8080/"
        }
      },
      "source": [
        "# 데이터는 \"data\" 디렉터리에 들어있으며, \"notebooks\" 디렉터리와 같은 계위에 위치합니다\n",
        "# 데이터 디렉터리에 접근합니다\n",
        "path = os.path.abspath(os.path.join(rawpath, '..', 'data'))\n",
        "print(\"데이터가 저장된 경로: \", path)"
      ],
      "execution_count": 9,
      "outputs": [
        {
          "output_type": "stream",
          "name": "stdout",
          "text": [
            "데이터가 저장된 경로:  /content/data\n"
          ]
        }
      ]
    },
    {
      "cell_type": "code",
      "metadata": {
        "id": "OdQf8jKs8CqY"
      },
      "source": [
        "# 경전철 문제를 위한 상수\n",
        "# data_preparation 노트북에서 지정된것과 동일한 값이어야 함: pickled_input_dataframe, pickled_output_dataframe\n",
        "pickled_data_file = '2014_2018.pkl'\n",
        "#pickled_dataframe = '2014_2018_df.pkl'\n",
        "pickled_dataframe = '2014_2018_df_cleaned_keep_bad_apr23.pkl'\n",
        "pickled_output_dataframe = '2014_2018_df_cleaned_keep_bad_loc_geocoded.pkl'"
      ],
      "execution_count": 6,
      "outputs": []
    },
    {
      "cell_type": "code",
      "metadata": {
        "id": "33wDLDAZ8CqY",
        "outputId": "9c80c021-9223-4210-cad8-c32d9207d971",
        "colab": {
          "base_uri": "https://localhost:8080/",
          "height": 351
        }
      },
      "source": [
        "file_name = os.path.join(path,pickled_dataframe)\n",
        "df = pd.read_pickle(file_name)\n",
        "df.head()"
      ],
      "execution_count": 7,
      "outputs": [
        {
          "output_type": "execute_result",
          "data": {
            "text/html": [
              "<div>\n",
              "<style scoped>\n",
              "    .dataframe tbody tr th:only-of-type {\n",
              "        vertical-align: middle;\n",
              "    }\n",
              "\n",
              "    .dataframe tbody tr th {\n",
              "        vertical-align: top;\n",
              "    }\n",
              "\n",
              "    .dataframe thead th {\n",
              "        text-align: right;\n",
              "    }\n",
              "</style>\n",
              "<table border=\"1\" class=\"dataframe\">\n",
              "  <thead>\n",
              "    <tr style=\"text-align: right;\">\n",
              "      <th></th>\n",
              "      <th>Report Date</th>\n",
              "      <th>Route</th>\n",
              "      <th>Time</th>\n",
              "      <th>Day</th>\n",
              "      <th>Location</th>\n",
              "      <th>Incident</th>\n",
              "      <th>Min Delay</th>\n",
              "      <th>Min Gap</th>\n",
              "      <th>Direction</th>\n",
              "      <th>Vehicle</th>\n",
              "      <th>Report Date Time</th>\n",
              "    </tr>\n",
              "    <tr>\n",
              "      <th>Report Date Time</th>\n",
              "      <th></th>\n",
              "      <th></th>\n",
              "      <th></th>\n",
              "      <th></th>\n",
              "      <th></th>\n",
              "      <th></th>\n",
              "      <th></th>\n",
              "      <th></th>\n",
              "      <th></th>\n",
              "      <th></th>\n",
              "      <th></th>\n",
              "    </tr>\n",
              "  </thead>\n",
              "  <tbody>\n",
              "    <tr>\n",
              "      <th>2016-01-01 00:00:00</th>\n",
              "      <td>2016-01-01</td>\n",
              "      <td>505</td>\n",
              "      <td>00:00:00</td>\n",
              "      <td>Friday</td>\n",
              "      <td>dundas west stationt to broadview station</td>\n",
              "      <td>General Delay</td>\n",
              "      <td>7.0</td>\n",
              "      <td>14.0</td>\n",
              "      <td>w</td>\n",
              "      <td>4028</td>\n",
              "      <td>2016-01-01 00:00:00</td>\n",
              "    </tr>\n",
              "    <tr>\n",
              "      <th>2016-01-01 02:14:00</th>\n",
              "      <td>2016-01-01</td>\n",
              "      <td>511</td>\n",
              "      <td>02:14:00</td>\n",
              "      <td>Friday</td>\n",
              "      <td>fleet st. and strachan</td>\n",
              "      <td>Mechanical</td>\n",
              "      <td>10.0</td>\n",
              "      <td>20.0</td>\n",
              "      <td>e</td>\n",
              "      <td>4018</td>\n",
              "      <td>2016-01-01 02:14:00</td>\n",
              "    </tr>\n",
              "    <tr>\n",
              "      <th>2016-01-01 02:22:00</th>\n",
              "      <td>2016-01-01</td>\n",
              "      <td>301</td>\n",
              "      <td>02:22:00</td>\n",
              "      <td>Friday</td>\n",
              "      <td>queen st. west and roncesvalles</td>\n",
              "      <td>Mechanical</td>\n",
              "      <td>9.0</td>\n",
              "      <td>18.0</td>\n",
              "      <td>w</td>\n",
              "      <td>4201</td>\n",
              "      <td>2016-01-01 02:22:00</td>\n",
              "    </tr>\n",
              "    <tr>\n",
              "      <th>2016-01-01 03:28:00</th>\n",
              "      <td>2016-01-01</td>\n",
              "      <td>301</td>\n",
              "      <td>03:28:00</td>\n",
              "      <td>Friday</td>\n",
              "      <td>lake shore blvd. and superior st.</td>\n",
              "      <td>Mechanical</td>\n",
              "      <td>20.0</td>\n",
              "      <td>40.0</td>\n",
              "      <td>e</td>\n",
              "      <td>4251</td>\n",
              "      <td>2016-01-01 03:28:00</td>\n",
              "    </tr>\n",
              "    <tr>\n",
              "      <th>2016-01-01 14:28:00</th>\n",
              "      <td>2016-01-01</td>\n",
              "      <td>501</td>\n",
              "      <td>14:28:00</td>\n",
              "      <td>Friday</td>\n",
              "      <td>roncesvalles to neville park</td>\n",
              "      <td>Mechanical</td>\n",
              "      <td>6.0</td>\n",
              "      <td>12.0</td>\n",
              "      <td>e</td>\n",
              "      <td>4242</td>\n",
              "      <td>2016-01-01 14:28:00</td>\n",
              "    </tr>\n",
              "  </tbody>\n",
              "</table>\n",
              "</div>"
            ],
            "text/plain": [
              "                    Report Date Route  ... Vehicle    Report Date Time\n",
              "Report Date Time                       ...                            \n",
              "2016-01-01 00:00:00  2016-01-01   505  ...    4028 2016-01-01 00:00:00\n",
              "2016-01-01 02:14:00  2016-01-01   511  ...    4018 2016-01-01 02:14:00\n",
              "2016-01-01 02:22:00  2016-01-01   301  ...    4201 2016-01-01 02:22:00\n",
              "2016-01-01 03:28:00  2016-01-01   301  ...    4251 2016-01-01 03:28:00\n",
              "2016-01-01 14:28:00  2016-01-01   501  ...    4242 2016-01-01 14:28:00\n",
              "\n",
              "[5 rows x 11 columns]"
            ]
          },
          "metadata": {},
          "execution_count": 7
        }
      ]
    },
    {
      "cell_type": "code",
      "metadata": {
        "id": "o6bQBIVs8CqZ",
        "outputId": "61662df7-4b52-48a7-fada-822d92ffc9f1",
        "colab": {
          "base_uri": "https://localhost:8080/"
        }
      },
      "source": [
        "df.shape"
      ],
      "execution_count": 8,
      "outputs": [
        {
          "output_type": "execute_result",
          "data": {
            "text/plain": [
              "(69603, 11)"
            ]
          },
          "metadata": {},
          "execution_count": 8
        }
      ]
    },
    {
      "cell_type": "code",
      "metadata": {
        "scrolled": true,
        "id": "LiZyZCIN8CqZ",
        "outputId": "e8c51112-f2b9-4588-ec5f-25606ac48003",
        "colab": {
          "base_uri": "https://localhost:8080/",
          "height": 220
        }
      },
      "source": [
        "# gapminder['continent'].unique().tolist 만을\n",
        "# 포함한 데이터프레임을 생성합니다\n",
        "loc_unique = df['Location'].unique().tolist()\n",
        "print(\"Location 고윳값 목록(loc_unique): \", loc_unique[0])\n",
        "\n",
        "# pd.DataFrame(q_list, columns=['q_data'])\n",
        "df_unique = pd.DataFrame(loc_unique, columns=['Location'])\n",
        "df_unique.head()"
      ],
      "execution_count": 14,
      "outputs": [
        {
          "output_type": "stream",
          "name": "stdout",
          "text": [
            "Location 고윳값 목록(loc_unique):  dundas west stationt to broadview station\n"
          ]
        },
        {
          "output_type": "execute_result",
          "data": {
            "text/html": [
              "<div>\n",
              "<style scoped>\n",
              "    .dataframe tbody tr th:only-of-type {\n",
              "        vertical-align: middle;\n",
              "    }\n",
              "\n",
              "    .dataframe tbody tr th {\n",
              "        vertical-align: top;\n",
              "    }\n",
              "\n",
              "    .dataframe thead th {\n",
              "        text-align: right;\n",
              "    }\n",
              "</style>\n",
              "<table border=\"1\" class=\"dataframe\">\n",
              "  <thead>\n",
              "    <tr style=\"text-align: right;\">\n",
              "      <th></th>\n",
              "      <th>Location</th>\n",
              "    </tr>\n",
              "  </thead>\n",
              "  <tbody>\n",
              "    <tr>\n",
              "      <th>0</th>\n",
              "      <td>dundas west stationt to broadview station</td>\n",
              "    </tr>\n",
              "    <tr>\n",
              "      <th>1</th>\n",
              "      <td>fleet st. and strachan</td>\n",
              "    </tr>\n",
              "    <tr>\n",
              "      <th>2</th>\n",
              "      <td>queen st. west and roncesvalles</td>\n",
              "    </tr>\n",
              "    <tr>\n",
              "      <th>3</th>\n",
              "      <td>lake shore blvd. and superior st.</td>\n",
              "    </tr>\n",
              "    <tr>\n",
              "      <th>4</th>\n",
              "      <td>roncesvalles to neville park</td>\n",
              "    </tr>\n",
              "  </tbody>\n",
              "</table>\n",
              "</div>"
            ],
            "text/plain": [
              "                                    Location\n",
              "0  dundas west stationt to broadview station\n",
              "1                     fleet st. and strachan\n",
              "2            queen st. west and roncesvalles\n",
              "3          lake shore blvd. and superior st.\n",
              "4               roncesvalles to neville park"
            ]
          },
          "metadata": {},
          "execution_count": 14
        }
      ]
    },
    {
      "cell_type": "code",
      "metadata": {
        "id": "xCZVv_V_8CqZ",
        "outputId": "4b0112e7-74fe-4218-ff92-8cbe05002020",
        "colab": {
          "base_uri": "https://localhost:8080/"
        }
      },
      "source": [
        "df_unique.shape"
      ],
      "execution_count": 15,
      "outputs": [
        {
          "output_type": "execute_result",
          "data": {
            "text/plain": [
              "(10074, 1)"
            ]
          },
          "metadata": {},
          "execution_count": 15
        }
      ]
    },
    {
      "cell_type": "markdown",
      "metadata": {
        "id": "6YzoDJe28Cqa"
      },
      "source": [
        "# 지역코드 API 설정"
      ]
    },
    {
      "cell_type": "code",
      "metadata": {
        "id": "qNNzMKC08Cqa",
        "outputId": "26896cd1-2cd9-40be-b634-bc5c1c041f72",
        "colab": {
          "base_uri": "https://localhost:8080/"
        }
      },
      "source": [
        "! pip install -U googlemaps"
      ],
      "execution_count": 16,
      "outputs": [
        {
          "output_type": "stream",
          "name": "stdout",
          "text": [
            "Collecting googlemaps\n",
            "  Downloading googlemaps-4.5.3.tar.gz (32 kB)\n",
            "Requirement already satisfied: requests<3.0,>=2.20.0 in /usr/local/lib/python3.7/dist-packages (from googlemaps) (2.23.0)\n",
            "Requirement already satisfied: urllib3!=1.25.0,!=1.25.1,<1.26,>=1.21.1 in /usr/local/lib/python3.7/dist-packages (from requests<3.0,>=2.20.0->googlemaps) (1.24.3)\n",
            "Requirement already satisfied: chardet<4,>=3.0.2 in /usr/local/lib/python3.7/dist-packages (from requests<3.0,>=2.20.0->googlemaps) (3.0.4)\n",
            "Requirement already satisfied: idna<3,>=2.5 in /usr/local/lib/python3.7/dist-packages (from requests<3.0,>=2.20.0->googlemaps) (2.10)\n",
            "Requirement already satisfied: certifi>=2017.4.17 in /usr/local/lib/python3.7/dist-packages (from requests<3.0,>=2.20.0->googlemaps) (2021.10.8)\n",
            "Building wheels for collected packages: googlemaps\n",
            "  Building wheel for googlemaps (setup.py) ... \u001b[?25l\u001b[?25hdone\n",
            "  Created wheel for googlemaps: filename=googlemaps-4.5.3-py3-none-any.whl size=38479 sha256=f77a7cc70f138e5bf3a3e2c08bc6131b2de24b947ba1aecf728f1e6b6e4aba8a\n",
            "  Stored in directory: /root/.cache/pip/wheels/fa/1a/1c/cc0b8a1652a3f06aea586b0e4714a81bafed830513969baf92\n",
            "Successfully built googlemaps\n",
            "Installing collected packages: googlemaps\n",
            "Successfully installed googlemaps-4.5.3\n"
          ]
        }
      ]
    },
    {
      "cell_type": "code",
      "metadata": {
        "scrolled": true,
        "id": "x33R79PH8Cqa",
        "outputId": "2a4d1530-0420-4fe3-ab8f-920774ff11f9"
      },
      "source": [
        "import googlemaps\n",
        "\n",
        "# API 키는 https://developers.google.com/maps/documentation/embed/get-api-key 에서 얻을 수 있습니다\n",
        "# NOTE: 아래 코드를 실행하려면 여러분만의 API 키를 생성한 뒤, 아래 `key=''` 부분에 키값을 대입합니다.\n",
        "gmaps = googlemaps.Client(key='')\n",
        "\n",
        "# 테스트: 주소에 대한 지역코드를 얻습니다\n",
        "geocode_result = gmaps.geocode('lake shore blvd. and superior st., Toronto')\n",
        "\n",
        "print(\"지역코드 API 호출 결과\",geocode_result[0][\"geometry\"][\"location\"])"
      ],
      "execution_count": null,
      "outputs": [
        {
          "name": "stdout",
          "output_type": "stream",
          "text": [
            "geocode result {'lat': 43.61496169999999, 'lng': -79.4886581}\n"
          ]
        }
      ]
    },
    {
      "cell_type": "code",
      "metadata": {
        "id": "hzXS9YmG8Cqb"
      },
      "source": [
        "# 주어진 주소/교차로에 대해 지역코으 API가 준 위도/경도 목록을 반환합니다\n",
        "\n",
        "def get_geocode_result(junction):\n",
        "    geo_string = junction+\", \"+city_name\n",
        "    # print(\"geo_string is\", geo_string)\n",
        "    geocode_result = gmaps.geocode(geo_string)\n",
        "    # 결과가 비어 있는지 확인합니다\n",
        "    if len(geocode_result) > 0:\n",
        "        locs = geocode_result[0][\"geometry\"][\"location\"]\n",
        "        return [locs[\"lat\"], locs[\"lng\"]]\n",
        "    # 만약 그렇다면 파싱이 불가능 하다는것을 표현하기 위해 0 값들을 반환합니다\n",
        "    else:\n",
        "        return [0.0,0.0]"
      ],
      "execution_count": null,
      "outputs": []
    },
    {
      "cell_type": "code",
      "metadata": {
        "scrolled": true,
        "id": "g7wE_bB38Cqb",
        "outputId": "ca4712b3-4861-4c7c-86be-6ffb08552bb6"
      },
      "source": [
        "# 빈 결과를 반환 할 값에 대해 지역코드 API를 테스트 합니다\n",
        "\n",
        "locs = get_geocode_result(\"roncesvalles to longbranch\")\n",
        "print(\"locs \",locs)"
      ],
      "execution_count": null,
      "outputs": [
        {
          "name": "stdout",
          "output_type": "stream",
          "text": [
            "locs  [0.0, 0.0]\n"
          ]
        }
      ]
    },
    {
      "cell_type": "code",
      "metadata": {
        "id": "XP-xdRZ98Cqb",
        "outputId": "594e28ec-182d-4b8b-8fd1-9941367efa85"
      },
      "source": [
        "# 비어있지 않은 결과를 반환 할 값에 대해 지역코드 API를 테스트 합니다\n",
        "get_geocode_result(\"queen and bathurst\")[0]"
      ],
      "execution_count": null,
      "outputs": [
        {
          "data": {
            "text/plain": [
              "43.6471969"
            ]
          },
          "execution_count": 14,
          "metadata": {},
          "output_type": "execute_result"
        }
      ]
    },
    {
      "cell_type": "code",
      "metadata": {
        "id": "y8BDtD208Cqb",
        "outputId": "d43e5c37-a583-46d0-abad-19eb9b8d11ad"
      },
      "source": [
        "df.shape"
      ],
      "execution_count": null,
      "outputs": [
        {
          "data": {
            "text/plain": [
              "(69603, 11)"
            ]
          },
          "execution_count": 15,
          "metadata": {},
          "output_type": "execute_result"
        }
      ]
    },
    {
      "cell_type": "code",
      "metadata": {
        "id": "0dwPwU9p8Cqc"
      },
      "source": [
        "# 지역코드 API가 여러번 호출되는 상황을 피하기 위해서\n",
        "# 고유한 위치 값만을 가진 데이터프레임에 위도/경도를 담기위한 열을 생성합니다\n",
        "\n",
        "# 그 후 전체 데이터프레임의 각 데이터의 위치에따라\n",
        "# 이미 계산된 위도/경도 값을 재사용하여 지역코드 정보를 할당합니다.\n",
        "\n",
        "df_unique['lat_long'] = df_unique.Location.apply(lambda s: get_geocode_result(s))"
      ],
      "execution_count": null,
      "outputs": []
    },
    {
      "cell_type": "code",
      "metadata": {
        "id": "v5oi6REC8Cqc",
        "outputId": "cbce3add-8f7c-4a72-c1a0-b603ea88a1d6"
      },
      "source": [
        "df_unique.head()"
      ],
      "execution_count": null,
      "outputs": [
        {
          "data": {
            "text/html": [
              "<div>\n",
              "<style scoped>\n",
              "    .dataframe tbody tr th:only-of-type {\n",
              "        vertical-align: middle;\n",
              "    }\n",
              "\n",
              "    .dataframe tbody tr th {\n",
              "        vertical-align: top;\n",
              "    }\n",
              "\n",
              "    .dataframe thead th {\n",
              "        text-align: right;\n",
              "    }\n",
              "</style>\n",
              "<table border=\"1\" class=\"dataframe\">\n",
              "  <thead>\n",
              "    <tr style=\"text-align: right;\">\n",
              "      <th></th>\n",
              "      <th>Location</th>\n",
              "      <th>lat_long</th>\n",
              "    </tr>\n",
              "  </thead>\n",
              "  <tbody>\n",
              "    <tr>\n",
              "      <th>0</th>\n",
              "      <td>dundas west stationt to broadview station</td>\n",
              "      <td>[0.0, 0.0]</td>\n",
              "    </tr>\n",
              "    <tr>\n",
              "      <th>1</th>\n",
              "      <td>fleet st. and strachan</td>\n",
              "      <td>[43.6362976, -79.4096351]</td>\n",
              "    </tr>\n",
              "    <tr>\n",
              "      <th>2</th>\n",
              "      <td>queen st. west and roncesvalles</td>\n",
              "      <td>[43.64533489999999, -79.4131843]</td>\n",
              "    </tr>\n",
              "    <tr>\n",
              "      <th>3</th>\n",
              "      <td>lake shore blvd. and superior st.</td>\n",
              "      <td>[43.61496169999999, -79.4886581]</td>\n",
              "    </tr>\n",
              "    <tr>\n",
              "      <th>4</th>\n",
              "      <td>roncesvalles to neville park</td>\n",
              "      <td>[0.0, 0.0]</td>\n",
              "    </tr>\n",
              "  </tbody>\n",
              "</table>\n",
              "</div>"
            ],
            "text/plain": [
              "                                    Location                          lat_long\n",
              "0  dundas west stationt to broadview station                        [0.0, 0.0]\n",
              "1                     fleet st. and strachan         [43.6362976, -79.4096351]\n",
              "2            queen st. west and roncesvalles  [43.64533489999999, -79.4131843]\n",
              "3          lake shore blvd. and superior st.  [43.61496169999999, -79.4886581]\n",
              "4               roncesvalles to neville park                        [0.0, 0.0]"
            ]
          },
          "execution_count": 17,
          "metadata": {},
          "output_type": "execute_result"
        }
      ]
    },
    {
      "cell_type": "code",
      "metadata": {
        "id": "NLDOprrd8Cqc",
        "outputId": "f227d28c-5726-4a76-ba8a-7e10c66ad48d"
      },
      "source": [
        "df_unique.shape"
      ],
      "execution_count": null,
      "outputs": [
        {
          "data": {
            "text/plain": [
              "(10074, 2)"
            ]
          },
          "execution_count": 18,
          "metadata": {},
          "output_type": "execute_result"
        }
      ]
    },
    {
      "cell_type": "code",
      "metadata": {
        "scrolled": true,
        "id": "htFG7WTF8Cqc",
        "outputId": "ce81d412-1123-4084-af77-fd0cdb7302b9"
      },
      "source": [
        "# 하나의 열에 담긴 위도/경도 정보를 개별 열로 분리합니다\n",
        "# df[\"new_col\"] = df[\"A\"].str[0]\n",
        "df_unique[\"latitude\"] = df_unique[\"lat_long\"].str[0]\n",
        "df_unique[\"longitude\"] = df_unique[\"lat_long\"].str[1]\n",
        "df_unique.head()"
      ],
      "execution_count": null,
      "outputs": [
        {
          "data": {
            "text/html": [
              "<div>\n",
              "<style scoped>\n",
              "    .dataframe tbody tr th:only-of-type {\n",
              "        vertical-align: middle;\n",
              "    }\n",
              "\n",
              "    .dataframe tbody tr th {\n",
              "        vertical-align: top;\n",
              "    }\n",
              "\n",
              "    .dataframe thead th {\n",
              "        text-align: right;\n",
              "    }\n",
              "</style>\n",
              "<table border=\"1\" class=\"dataframe\">\n",
              "  <thead>\n",
              "    <tr style=\"text-align: right;\">\n",
              "      <th></th>\n",
              "      <th>Location</th>\n",
              "      <th>lat_long</th>\n",
              "      <th>latitude</th>\n",
              "      <th>longitude</th>\n",
              "    </tr>\n",
              "  </thead>\n",
              "  <tbody>\n",
              "    <tr>\n",
              "      <th>0</th>\n",
              "      <td>dundas west stationt to broadview station</td>\n",
              "      <td>[0.0, 0.0]</td>\n",
              "      <td>0.000000</td>\n",
              "      <td>0.000000</td>\n",
              "    </tr>\n",
              "    <tr>\n",
              "      <th>1</th>\n",
              "      <td>fleet st. and strachan</td>\n",
              "      <td>[43.6362976, -79.4096351]</td>\n",
              "      <td>43.636298</td>\n",
              "      <td>-79.409635</td>\n",
              "    </tr>\n",
              "    <tr>\n",
              "      <th>2</th>\n",
              "      <td>queen st. west and roncesvalles</td>\n",
              "      <td>[43.64533489999999, -79.4131843]</td>\n",
              "      <td>43.645335</td>\n",
              "      <td>-79.413184</td>\n",
              "    </tr>\n",
              "    <tr>\n",
              "      <th>3</th>\n",
              "      <td>lake shore blvd. and superior st.</td>\n",
              "      <td>[43.61496169999999, -79.4886581]</td>\n",
              "      <td>43.614962</td>\n",
              "      <td>-79.488658</td>\n",
              "    </tr>\n",
              "    <tr>\n",
              "      <th>4</th>\n",
              "      <td>roncesvalles to neville park</td>\n",
              "      <td>[0.0, 0.0]</td>\n",
              "      <td>0.000000</td>\n",
              "      <td>0.000000</td>\n",
              "    </tr>\n",
              "  </tbody>\n",
              "</table>\n",
              "</div>"
            ],
            "text/plain": [
              "                                    Location  \\\n",
              "0  dundas west stationt to broadview station   \n",
              "1                     fleet st. and strachan   \n",
              "2            queen st. west and roncesvalles   \n",
              "3          lake shore blvd. and superior st.   \n",
              "4               roncesvalles to neville park   \n",
              "\n",
              "                           lat_long   latitude  longitude  \n",
              "0                        [0.0, 0.0]   0.000000   0.000000  \n",
              "1         [43.6362976, -79.4096351]  43.636298 -79.409635  \n",
              "2  [43.64533489999999, -79.4131843]  43.645335 -79.413184  \n",
              "3  [43.61496169999999, -79.4886581]  43.614962 -79.488658  \n",
              "4                        [0.0, 0.0]   0.000000   0.000000  "
            ]
          },
          "execution_count": 22,
          "metadata": {},
          "output_type": "execute_result"
        }
      ]
    },
    {
      "cell_type": "code",
      "metadata": {
        "id": "XP01ddr_8Cqd",
        "outputId": "bdeb82eb-b8cd-4a15-8de3-ef51d525cab5"
      },
      "source": [
        "df_unique.shape"
      ],
      "execution_count": null,
      "outputs": [
        {
          "data": {
            "text/plain": [
              "(10074, 4)"
            ]
          },
          "execution_count": 23,
          "metadata": {},
          "output_type": "execute_result"
        }
      ]
    },
    {
      "cell_type": "code",
      "metadata": {
        "id": "bYiYt2Fs8Cqd",
        "outputId": "9ea05727-470a-4fa4-fece-d107d60a76aa"
      },
      "source": [
        "# 원본 데이터프레임과 df_unique 데이터프레임을 Location 열을 두고 조인시킵니다\n",
        "# 그러면 원본 데이터프레임에 해당 Location 에 대한 위도/경도 열이 삽입됩니다\n",
        "# result1 = pd.merge(date_frame, routedirection_frame, on='count', how='outer')\n",
        "df_out = pd.merge(df, df_unique, on=\"Location\", how='left')\n",
        "df_out.head()"
      ],
      "execution_count": null,
      "outputs": [
        {
          "data": {
            "text/html": [
              "<div>\n",
              "<style scoped>\n",
              "    .dataframe tbody tr th:only-of-type {\n",
              "        vertical-align: middle;\n",
              "    }\n",
              "\n",
              "    .dataframe tbody tr th {\n",
              "        vertical-align: top;\n",
              "    }\n",
              "\n",
              "    .dataframe thead th {\n",
              "        text-align: right;\n",
              "    }\n",
              "</style>\n",
              "<table border=\"1\" class=\"dataframe\">\n",
              "  <thead>\n",
              "    <tr style=\"text-align: right;\">\n",
              "      <th></th>\n",
              "      <th>Report Date</th>\n",
              "      <th>Route</th>\n",
              "      <th>Time</th>\n",
              "      <th>Day</th>\n",
              "      <th>Location</th>\n",
              "      <th>Incident</th>\n",
              "      <th>Min Delay</th>\n",
              "      <th>Min Gap</th>\n",
              "      <th>Direction</th>\n",
              "      <th>Vehicle</th>\n",
              "      <th>Report Date Time</th>\n",
              "      <th>lat_long</th>\n",
              "      <th>latitude</th>\n",
              "      <th>longitude</th>\n",
              "    </tr>\n",
              "  </thead>\n",
              "  <tbody>\n",
              "    <tr>\n",
              "      <th>0</th>\n",
              "      <td>2016-01-01</td>\n",
              "      <td>505</td>\n",
              "      <td>00:00:00</td>\n",
              "      <td>Friday</td>\n",
              "      <td>dundas west stationt to broadview station</td>\n",
              "      <td>General Delay</td>\n",
              "      <td>7.0</td>\n",
              "      <td>14.0</td>\n",
              "      <td>w</td>\n",
              "      <td>4028</td>\n",
              "      <td>2016-01-01 00:00:00</td>\n",
              "      <td>[0.0, 0.0]</td>\n",
              "      <td>0.000000</td>\n",
              "      <td>0.000000</td>\n",
              "    </tr>\n",
              "    <tr>\n",
              "      <th>1</th>\n",
              "      <td>2016-01-01</td>\n",
              "      <td>511</td>\n",
              "      <td>02:14:00</td>\n",
              "      <td>Friday</td>\n",
              "      <td>fleet st. and strachan</td>\n",
              "      <td>Mechanical</td>\n",
              "      <td>10.0</td>\n",
              "      <td>20.0</td>\n",
              "      <td>e</td>\n",
              "      <td>4018</td>\n",
              "      <td>2016-01-01 02:14:00</td>\n",
              "      <td>[43.6362976, -79.4096351]</td>\n",
              "      <td>43.636298</td>\n",
              "      <td>-79.409635</td>\n",
              "    </tr>\n",
              "    <tr>\n",
              "      <th>2</th>\n",
              "      <td>2016-01-01</td>\n",
              "      <td>301</td>\n",
              "      <td>02:22:00</td>\n",
              "      <td>Friday</td>\n",
              "      <td>queen st. west and roncesvalles</td>\n",
              "      <td>Mechanical</td>\n",
              "      <td>9.0</td>\n",
              "      <td>18.0</td>\n",
              "      <td>w</td>\n",
              "      <td>4201</td>\n",
              "      <td>2016-01-01 02:22:00</td>\n",
              "      <td>[43.64533489999999, -79.4131843]</td>\n",
              "      <td>43.645335</td>\n",
              "      <td>-79.413184</td>\n",
              "    </tr>\n",
              "    <tr>\n",
              "      <th>3</th>\n",
              "      <td>2016-01-01</td>\n",
              "      <td>301</td>\n",
              "      <td>03:28:00</td>\n",
              "      <td>Friday</td>\n",
              "      <td>lake shore blvd. and superior st.</td>\n",
              "      <td>Mechanical</td>\n",
              "      <td>20.0</td>\n",
              "      <td>40.0</td>\n",
              "      <td>e</td>\n",
              "      <td>4251</td>\n",
              "      <td>2016-01-01 03:28:00</td>\n",
              "      <td>[43.61496169999999, -79.4886581]</td>\n",
              "      <td>43.614962</td>\n",
              "      <td>-79.488658</td>\n",
              "    </tr>\n",
              "    <tr>\n",
              "      <th>4</th>\n",
              "      <td>2016-01-01</td>\n",
              "      <td>501</td>\n",
              "      <td>14:28:00</td>\n",
              "      <td>Friday</td>\n",
              "      <td>roncesvalles to neville park</td>\n",
              "      <td>Mechanical</td>\n",
              "      <td>6.0</td>\n",
              "      <td>12.0</td>\n",
              "      <td>e</td>\n",
              "      <td>4242</td>\n",
              "      <td>2016-01-01 14:28:00</td>\n",
              "      <td>[0.0, 0.0]</td>\n",
              "      <td>0.000000</td>\n",
              "      <td>0.000000</td>\n",
              "    </tr>\n",
              "  </tbody>\n",
              "</table>\n",
              "</div>"
            ],
            "text/plain": [
              "  Report Date Route      Time     Day  \\\n",
              "0  2016-01-01   505  00:00:00  Friday   \n",
              "1  2016-01-01   511  02:14:00  Friday   \n",
              "2  2016-01-01   301  02:22:00  Friday   \n",
              "3  2016-01-01   301  03:28:00  Friday   \n",
              "4  2016-01-01   501  14:28:00  Friday   \n",
              "\n",
              "                                    Location       Incident  Min Delay  \\\n",
              "0  dundas west stationt to broadview station  General Delay        7.0   \n",
              "1                     fleet st. and strachan     Mechanical       10.0   \n",
              "2            queen st. west and roncesvalles     Mechanical        9.0   \n",
              "3          lake shore blvd. and superior st.     Mechanical       20.0   \n",
              "4               roncesvalles to neville park     Mechanical        6.0   \n",
              "\n",
              "   Min Gap Direction Vehicle    Report Date Time  \\\n",
              "0     14.0         w    4028 2016-01-01 00:00:00   \n",
              "1     20.0         e    4018 2016-01-01 02:14:00   \n",
              "2     18.0         w    4201 2016-01-01 02:22:00   \n",
              "3     40.0         e    4251 2016-01-01 03:28:00   \n",
              "4     12.0         e    4242 2016-01-01 14:28:00   \n",
              "\n",
              "                           lat_long   latitude  longitude  \n",
              "0                        [0.0, 0.0]   0.000000   0.000000  \n",
              "1         [43.6362976, -79.4096351]  43.636298 -79.409635  \n",
              "2  [43.64533489999999, -79.4131843]  43.645335 -79.413184  \n",
              "3  [43.61496169999999, -79.4886581]  43.614962 -79.488658  \n",
              "4                        [0.0, 0.0]   0.000000   0.000000  "
            ]
          },
          "execution_count": 24,
          "metadata": {},
          "output_type": "execute_result"
        }
      ]
    },
    {
      "cell_type": "code",
      "metadata": {
        "id": "MzZ8rLL08Cqd",
        "outputId": "5195437d-ba7f-4581-c7a6-3939dbaa7e3a"
      },
      "source": [
        "df_out.head(30)"
      ],
      "execution_count": null,
      "outputs": [
        {
          "data": {
            "text/html": [
              "<div>\n",
              "<style scoped>\n",
              "    .dataframe tbody tr th:only-of-type {\n",
              "        vertical-align: middle;\n",
              "    }\n",
              "\n",
              "    .dataframe tbody tr th {\n",
              "        vertical-align: top;\n",
              "    }\n",
              "\n",
              "    .dataframe thead th {\n",
              "        text-align: right;\n",
              "    }\n",
              "</style>\n",
              "<table border=\"1\" class=\"dataframe\">\n",
              "  <thead>\n",
              "    <tr style=\"text-align: right;\">\n",
              "      <th></th>\n",
              "      <th>Report Date</th>\n",
              "      <th>Route</th>\n",
              "      <th>Time</th>\n",
              "      <th>Day</th>\n",
              "      <th>Location</th>\n",
              "      <th>Incident</th>\n",
              "      <th>Min Delay</th>\n",
              "      <th>Min Gap</th>\n",
              "      <th>Direction</th>\n",
              "      <th>Vehicle</th>\n",
              "      <th>Report Date Time</th>\n",
              "      <th>lat_long</th>\n",
              "      <th>latitude</th>\n",
              "      <th>longitude</th>\n",
              "    </tr>\n",
              "  </thead>\n",
              "  <tbody>\n",
              "    <tr>\n",
              "      <th>0</th>\n",
              "      <td>2016-01-01</td>\n",
              "      <td>505</td>\n",
              "      <td>00:00:00</td>\n",
              "      <td>Friday</td>\n",
              "      <td>dundas west stationt to broadview station</td>\n",
              "      <td>General Delay</td>\n",
              "      <td>7.0</td>\n",
              "      <td>14.0</td>\n",
              "      <td>w</td>\n",
              "      <td>4028</td>\n",
              "      <td>2016-01-01 00:00:00</td>\n",
              "      <td>[0.0, 0.0]</td>\n",
              "      <td>0.000000</td>\n",
              "      <td>0.000000</td>\n",
              "    </tr>\n",
              "    <tr>\n",
              "      <th>1</th>\n",
              "      <td>2016-01-01</td>\n",
              "      <td>511</td>\n",
              "      <td>02:14:00</td>\n",
              "      <td>Friday</td>\n",
              "      <td>fleet st. and strachan</td>\n",
              "      <td>Mechanical</td>\n",
              "      <td>10.0</td>\n",
              "      <td>20.0</td>\n",
              "      <td>e</td>\n",
              "      <td>4018</td>\n",
              "      <td>2016-01-01 02:14:00</td>\n",
              "      <td>[43.6362976, -79.4096351]</td>\n",
              "      <td>43.636298</td>\n",
              "      <td>-79.409635</td>\n",
              "    </tr>\n",
              "    <tr>\n",
              "      <th>2</th>\n",
              "      <td>2016-01-01</td>\n",
              "      <td>301</td>\n",
              "      <td>02:22:00</td>\n",
              "      <td>Friday</td>\n",
              "      <td>queen st. west and roncesvalles</td>\n",
              "      <td>Mechanical</td>\n",
              "      <td>9.0</td>\n",
              "      <td>18.0</td>\n",
              "      <td>w</td>\n",
              "      <td>4201</td>\n",
              "      <td>2016-01-01 02:22:00</td>\n",
              "      <td>[43.64533489999999, -79.4131843]</td>\n",
              "      <td>43.645335</td>\n",
              "      <td>-79.413184</td>\n",
              "    </tr>\n",
              "    <tr>\n",
              "      <th>3</th>\n",
              "      <td>2016-01-01</td>\n",
              "      <td>301</td>\n",
              "      <td>03:28:00</td>\n",
              "      <td>Friday</td>\n",
              "      <td>lake shore blvd. and superior st.</td>\n",
              "      <td>Mechanical</td>\n",
              "      <td>20.0</td>\n",
              "      <td>40.0</td>\n",
              "      <td>e</td>\n",
              "      <td>4251</td>\n",
              "      <td>2016-01-01 03:28:00</td>\n",
              "      <td>[43.61496169999999, -79.4886581]</td>\n",
              "      <td>43.614962</td>\n",
              "      <td>-79.488658</td>\n",
              "    </tr>\n",
              "    <tr>\n",
              "      <th>4</th>\n",
              "      <td>2016-01-01</td>\n",
              "      <td>501</td>\n",
              "      <td>14:28:00</td>\n",
              "      <td>Friday</td>\n",
              "      <td>roncesvalles to neville park</td>\n",
              "      <td>Mechanical</td>\n",
              "      <td>6.0</td>\n",
              "      <td>12.0</td>\n",
              "      <td>e</td>\n",
              "      <td>4242</td>\n",
              "      <td>2016-01-01 14:28:00</td>\n",
              "      <td>[0.0, 0.0]</td>\n",
              "      <td>0.000000</td>\n",
              "      <td>0.000000</td>\n",
              "    </tr>\n",
              "    <tr>\n",
              "      <th>5</th>\n",
              "      <td>2016-01-01</td>\n",
              "      <td>505</td>\n",
              "      <td>15:42:00</td>\n",
              "      <td>Friday</td>\n",
              "      <td>broadview station loop</td>\n",
              "      <td>Investigation</td>\n",
              "      <td>4.0</td>\n",
              "      <td>10.0</td>\n",
              "      <td>w</td>\n",
              "      <td>4187</td>\n",
              "      <td>2016-01-01 15:42:00</td>\n",
              "      <td>[43.677135, -79.35820799999999]</td>\n",
              "      <td>43.677135</td>\n",
              "      <td>-79.358208</td>\n",
              "    </tr>\n",
              "    <tr>\n",
              "      <th>6</th>\n",
              "      <td>2016-01-01</td>\n",
              "      <td>504</td>\n",
              "      <td>15:54:00</td>\n",
              "      <td>Friday</td>\n",
              "      <td>broadview and queen</td>\n",
              "      <td>Mechanical</td>\n",
              "      <td>6.0</td>\n",
              "      <td>12.0</td>\n",
              "      <td>e</td>\n",
              "      <td>4181</td>\n",
              "      <td>2016-01-01 15:54:00</td>\n",
              "      <td>[43.6593626, -79.34769709999999]</td>\n",
              "      <td>43.659363</td>\n",
              "      <td>-79.347697</td>\n",
              "    </tr>\n",
              "    <tr>\n",
              "      <th>7</th>\n",
              "      <td>2016-01-01</td>\n",
              "      <td>501</td>\n",
              "      <td>16:05:00</td>\n",
              "      <td>Friday</td>\n",
              "      <td>roncesvalles to humber loop</td>\n",
              "      <td>Mechanical</td>\n",
              "      <td>6.0</td>\n",
              "      <td>12.0</td>\n",
              "      <td>w</td>\n",
              "      <td>4245</td>\n",
              "      <td>2016-01-01 16:05:00</td>\n",
              "      <td>[0.0, 0.0]</td>\n",
              "      <td>0.000000</td>\n",
              "      <td>0.000000</td>\n",
              "    </tr>\n",
              "    <tr>\n",
              "      <th>8</th>\n",
              "      <td>2016-01-01</td>\n",
              "      <td>506</td>\n",
              "      <td>16:27:00</td>\n",
              "      <td>Friday</td>\n",
              "      <td>main station</td>\n",
              "      <td>Mechanical</td>\n",
              "      <td>8.0</td>\n",
              "      <td>16.0</td>\n",
              "      <td>w</td>\n",
              "      <td>4092</td>\n",
              "      <td>2016-01-01 16:27:00</td>\n",
              "      <td>[43.6890219, -79.3016857]</td>\n",
              "      <td>43.689022</td>\n",
              "      <td>-79.301686</td>\n",
              "    </tr>\n",
              "    <tr>\n",
              "      <th>9</th>\n",
              "      <td>2016-01-01</td>\n",
              "      <td>510</td>\n",
              "      <td>16:34:00</td>\n",
              "      <td>Friday</td>\n",
              "      <td>richmond st. and spadina</td>\n",
              "      <td>Diversion</td>\n",
              "      <td>41.0</td>\n",
              "      <td>46.0</td>\n",
              "      <td>s</td>\n",
              "      <td>bad vehicle</td>\n",
              "      <td>2016-01-01 16:34:00</td>\n",
              "      <td>[43.6478469, -79.39588049999999]</td>\n",
              "      <td>43.647847</td>\n",
              "      <td>-79.395880</td>\n",
              "    </tr>\n",
              "    <tr>\n",
              "      <th>10</th>\n",
              "      <td>2016-01-01</td>\n",
              "      <td>501</td>\n",
              "      <td>16:44:00</td>\n",
              "      <td>Friday</td>\n",
              "      <td>roncesvalles to humber</td>\n",
              "      <td>Mechanical</td>\n",
              "      <td>6.0</td>\n",
              "      <td>12.0</td>\n",
              "      <td>w</td>\n",
              "      <td>4220</td>\n",
              "      <td>2016-01-01 16:44:00</td>\n",
              "      <td>[0.0, 0.0]</td>\n",
              "      <td>0.000000</td>\n",
              "      <td>0.000000</td>\n",
              "    </tr>\n",
              "    <tr>\n",
              "      <th>11</th>\n",
              "      <td>2016-01-01</td>\n",
              "      <td>505</td>\n",
              "      <td>17:36:00</td>\n",
              "      <td>Friday</td>\n",
              "      <td>dundas st. west and huron st.</td>\n",
              "      <td>Held By</td>\n",
              "      <td>7.0</td>\n",
              "      <td>13.0</td>\n",
              "      <td>w</td>\n",
              "      <td>4039</td>\n",
              "      <td>2016-01-01 17:36:00</td>\n",
              "      <td>[43.653332, -79.3961386]</td>\n",
              "      <td>43.653332</td>\n",
              "      <td>-79.396139</td>\n",
              "    </tr>\n",
              "    <tr>\n",
              "      <th>12</th>\n",
              "      <td>2016-01-01</td>\n",
              "      <td>506</td>\n",
              "      <td>19:15:00</td>\n",
              "      <td>Friday</td>\n",
              "      <td>bathurst and college</td>\n",
              "      <td>Utilized Off Route</td>\n",
              "      <td>7.0</td>\n",
              "      <td>14.0</td>\n",
              "      <td>w</td>\n",
              "      <td>4095</td>\n",
              "      <td>2016-01-01 19:15:00</td>\n",
              "      <td>[43.6564647, -79.4077012]</td>\n",
              "      <td>43.656465</td>\n",
              "      <td>-79.407701</td>\n",
              "    </tr>\n",
              "    <tr>\n",
              "      <th>13</th>\n",
              "      <td>2016-01-01</td>\n",
              "      <td>509</td>\n",
              "      <td>21:25:00</td>\n",
              "      <td>Friday</td>\n",
              "      <td>cne loop</td>\n",
              "      <td>Mechanical</td>\n",
              "      <td>10.0</td>\n",
              "      <td>20.0</td>\n",
              "      <td>e</td>\n",
              "      <td>4406</td>\n",
              "      <td>2016-01-01 21:25:00</td>\n",
              "      <td>[43.63441590000001, -79.4258807]</td>\n",
              "      <td>43.634416</td>\n",
              "      <td>-79.425881</td>\n",
              "    </tr>\n",
              "    <tr>\n",
              "      <th>14</th>\n",
              "      <td>2016-01-01</td>\n",
              "      <td>511</td>\n",
              "      <td>22:54:00</td>\n",
              "      <td>Friday</td>\n",
              "      <td>bathurst and wellington</td>\n",
              "      <td>Held By</td>\n",
              "      <td>16.0</td>\n",
              "      <td>24.0</td>\n",
              "      <td>b</td>\n",
              "      <td>4095</td>\n",
              "      <td>2016-01-01 22:54:00</td>\n",
              "      <td>[43.6426297, -79.4021618]</td>\n",
              "      <td>43.642630</td>\n",
              "      <td>-79.402162</td>\n",
              "    </tr>\n",
              "    <tr>\n",
              "      <th>15</th>\n",
              "      <td>2016-01-01</td>\n",
              "      <td>510</td>\n",
              "      <td>23:58:00</td>\n",
              "      <td>Friday</td>\n",
              "      <td>queen quay loop and spadina</td>\n",
              "      <td>Mechanical</td>\n",
              "      <td>6.0</td>\n",
              "      <td>13.0</td>\n",
              "      <td>n</td>\n",
              "      <td>4132</td>\n",
              "      <td>2016-01-01 23:58:00</td>\n",
              "      <td>[43.6384598, -79.3916564]</td>\n",
              "      <td>43.638460</td>\n",
              "      <td>-79.391656</td>\n",
              "    </tr>\n",
              "    <tr>\n",
              "      <th>16</th>\n",
              "      <td>2016-01-02</td>\n",
              "      <td>501</td>\n",
              "      <td>01:00:00</td>\n",
              "      <td>Saturday</td>\n",
              "      <td>roncesvallesue and the queensway</td>\n",
              "      <td>Mechanical</td>\n",
              "      <td>10.0</td>\n",
              "      <td>20.0</td>\n",
              "      <td>e</td>\n",
              "      <td>4223</td>\n",
              "      <td>2016-01-02 01:00:00</td>\n",
              "      <td>[43.63878890000001, -79.446111]</td>\n",
              "      <td>43.638789</td>\n",
              "      <td>-79.446111</td>\n",
              "    </tr>\n",
              "    <tr>\n",
              "      <th>17</th>\n",
              "      <td>2016-01-02</td>\n",
              "      <td>501</td>\n",
              "      <td>06:01:00</td>\n",
              "      <td>Saturday</td>\n",
              "      <td>queen and roncevalles</td>\n",
              "      <td>Mechanical</td>\n",
              "      <td>4.0</td>\n",
              "      <td>30.0</td>\n",
              "      <td>e</td>\n",
              "      <td>4247</td>\n",
              "      <td>2016-01-02 06:01:00</td>\n",
              "      <td>[43.64533489999999, -79.4131843]</td>\n",
              "      <td>43.645335</td>\n",
              "      <td>-79.413184</td>\n",
              "    </tr>\n",
              "    <tr>\n",
              "      <th>18</th>\n",
              "      <td>2016-01-02</td>\n",
              "      <td>504</td>\n",
              "      <td>06:51:00</td>\n",
              "      <td>Saturday</td>\n",
              "      <td>king and spadina</td>\n",
              "      <td>Mechanical</td>\n",
              "      <td>32.0</td>\n",
              "      <td>36.0</td>\n",
              "      <td>w</td>\n",
              "      <td>4186</td>\n",
              "      <td>2016-01-02 06:51:00</td>\n",
              "      <td>[43.6454419, -79.3951458]</td>\n",
              "      <td>43.645442</td>\n",
              "      <td>-79.395146</td>\n",
              "    </tr>\n",
              "    <tr>\n",
              "      <th>19</th>\n",
              "      <td>2016-01-02</td>\n",
              "      <td>504</td>\n",
              "      <td>06:55:00</td>\n",
              "      <td>Saturday</td>\n",
              "      <td>king and spadina</td>\n",
              "      <td>Mechanical</td>\n",
              "      <td>28.0</td>\n",
              "      <td>32.0</td>\n",
              "      <td>w</td>\n",
              "      <td>4154</td>\n",
              "      <td>2016-01-02 06:55:00</td>\n",
              "      <td>[43.6454419, -79.3951458]</td>\n",
              "      <td>43.645442</td>\n",
              "      <td>-79.395146</td>\n",
              "    </tr>\n",
              "    <tr>\n",
              "      <th>20</th>\n",
              "      <td>2016-01-02</td>\n",
              "      <td>501</td>\n",
              "      <td>08:04:00</td>\n",
              "      <td>Saturday</td>\n",
              "      <td>humber loop</td>\n",
              "      <td>Mechanical</td>\n",
              "      <td>8.0</td>\n",
              "      <td>15.0</td>\n",
              "      <td>e</td>\n",
              "      <td>4208</td>\n",
              "      <td>2016-01-02 08:04:00</td>\n",
              "      <td>[43.63079099999999, -79.478622]</td>\n",
              "      <td>43.630791</td>\n",
              "      <td>-79.478622</td>\n",
              "    </tr>\n",
              "    <tr>\n",
              "      <th>21</th>\n",
              "      <td>2016-01-02</td>\n",
              "      <td>512</td>\n",
              "      <td>08:12:00</td>\n",
              "      <td>Saturday</td>\n",
              "      <td>deer park cr and st clair</td>\n",
              "      <td>Mechanical</td>\n",
              "      <td>9.0</td>\n",
              "      <td>18.0</td>\n",
              "      <td>w</td>\n",
              "      <td>4040</td>\n",
              "      <td>2016-01-02 08:12:00</td>\n",
              "      <td>[43.6872125, -79.3980108]</td>\n",
              "      <td>43.687213</td>\n",
              "      <td>-79.398011</td>\n",
              "    </tr>\n",
              "    <tr>\n",
              "      <th>22</th>\n",
              "      <td>2016-01-02</td>\n",
              "      <td>506</td>\n",
              "      <td>08:45:00</td>\n",
              "      <td>Saturday</td>\n",
              "      <td>coxwell and gerrard</td>\n",
              "      <td>Mechanical</td>\n",
              "      <td>8.0</td>\n",
              "      <td>15.0</td>\n",
              "      <td>w</td>\n",
              "      <td>4055</td>\n",
              "      <td>2016-01-02 08:45:00</td>\n",
              "      <td>[43.6753569, -79.32028249999999]</td>\n",
              "      <td>43.675357</td>\n",
              "      <td>-79.320282</td>\n",
              "    </tr>\n",
              "    <tr>\n",
              "      <th>23</th>\n",
              "      <td>2016-01-02</td>\n",
              "      <td>506</td>\n",
              "      <td>12:26:00</td>\n",
              "      <td>Saturday</td>\n",
              "      <td>coxwell and gerrard</td>\n",
              "      <td>Mechanical</td>\n",
              "      <td>6.0</td>\n",
              "      <td>11.0</td>\n",
              "      <td>e</td>\n",
              "      <td>4125</td>\n",
              "      <td>2016-01-02 12:26:00</td>\n",
              "      <td>[43.6753569, -79.32028249999999]</td>\n",
              "      <td>43.675357</td>\n",
              "      <td>-79.320282</td>\n",
              "    </tr>\n",
              "    <tr>\n",
              "      <th>24</th>\n",
              "      <td>2016-01-02</td>\n",
              "      <td>504</td>\n",
              "      <td>13:00:00</td>\n",
              "      <td>Saturday</td>\n",
              "      <td>john-spadina</td>\n",
              "      <td>General Delay</td>\n",
              "      <td>10.0</td>\n",
              "      <td>14.0</td>\n",
              "      <td>w</td>\n",
              "      <td>bad vehicle</td>\n",
              "      <td>2016-01-02 13:00:00</td>\n",
              "      <td>[43.659681, -79.40069810000001]</td>\n",
              "      <td>43.659681</td>\n",
              "      <td>-79.400698</td>\n",
              "    </tr>\n",
              "    <tr>\n",
              "      <th>25</th>\n",
              "      <td>2016-01-02</td>\n",
              "      <td>506</td>\n",
              "      <td>19:24:00</td>\n",
              "      <td>Saturday</td>\n",
              "      <td>ashdale and gerrard</td>\n",
              "      <td>Mechanical</td>\n",
              "      <td>23.0</td>\n",
              "      <td>29.0</td>\n",
              "      <td>e</td>\n",
              "      <td>4042</td>\n",
              "      <td>2016-01-02 19:24:00</td>\n",
              "      <td>[43.6723671, -79.32211559999999]</td>\n",
              "      <td>43.672367</td>\n",
              "      <td>-79.322116</td>\n",
              "    </tr>\n",
              "    <tr>\n",
              "      <th>26</th>\n",
              "      <td>2016-01-02</td>\n",
              "      <td>510</td>\n",
              "      <td>19:39:00</td>\n",
              "      <td>Saturday</td>\n",
              "      <td>spadina north of college</td>\n",
              "      <td>Investigation</td>\n",
              "      <td>66.0</td>\n",
              "      <td>12.0</td>\n",
              "      <td>n</td>\n",
              "      <td>4124</td>\n",
              "      <td>2016-01-02 19:39:00</td>\n",
              "      <td>[43.6579365, -79.3999151]</td>\n",
              "      <td>43.657936</td>\n",
              "      <td>-79.399915</td>\n",
              "    </tr>\n",
              "    <tr>\n",
              "      <th>27</th>\n",
              "      <td>2016-01-02</td>\n",
              "      <td>501</td>\n",
              "      <td>19:50:00</td>\n",
              "      <td>Saturday</td>\n",
              "      <td>abell and queen</td>\n",
              "      <td>Mechanical</td>\n",
              "      <td>7.0</td>\n",
              "      <td>15.0</td>\n",
              "      <td>e</td>\n",
              "      <td>4237</td>\n",
              "      <td>2016-01-02 19:50:00</td>\n",
              "      <td>[43.6430758, -79.4243556]</td>\n",
              "      <td>43.643076</td>\n",
              "      <td>-79.424356</td>\n",
              "    </tr>\n",
              "    <tr>\n",
              "      <th>28</th>\n",
              "      <td>2016-01-02</td>\n",
              "      <td>504</td>\n",
              "      <td>22:00:00</td>\n",
              "      <td>Saturday</td>\n",
              "      <td>jameson and king</td>\n",
              "      <td>Investigation</td>\n",
              "      <td>26.0</td>\n",
              "      <td>34.0</td>\n",
              "      <td>w</td>\n",
              "      <td>4187</td>\n",
              "      <td>2016-01-02 22:00:00</td>\n",
              "      <td>[43.6372723, -79.4358608]</td>\n",
              "      <td>43.637272</td>\n",
              "      <td>-79.435861</td>\n",
              "    </tr>\n",
              "    <tr>\n",
              "      <th>29</th>\n",
              "      <td>2016-01-02</td>\n",
              "      <td>501</td>\n",
              "      <td>22:50:00</td>\n",
              "      <td>Saturday</td>\n",
              "      <td>queen street and roncesvalles</td>\n",
              "      <td>Mechanical</td>\n",
              "      <td>9.0</td>\n",
              "      <td>18.0</td>\n",
              "      <td>w</td>\n",
              "      <td>4207</td>\n",
              "      <td>2016-01-02 22:50:00</td>\n",
              "      <td>[43.6390997, -79.4451902]</td>\n",
              "      <td>43.639100</td>\n",
              "      <td>-79.445190</td>\n",
              "    </tr>\n",
              "  </tbody>\n",
              "</table>\n",
              "</div>"
            ],
            "text/plain": [
              "   Report Date Route      Time       Day  \\\n",
              "0   2016-01-01   505  00:00:00    Friday   \n",
              "1   2016-01-01   511  02:14:00    Friday   \n",
              "2   2016-01-01   301  02:22:00    Friday   \n",
              "3   2016-01-01   301  03:28:00    Friday   \n",
              "4   2016-01-01   501  14:28:00    Friday   \n",
              "5   2016-01-01   505  15:42:00    Friday   \n",
              "6   2016-01-01   504  15:54:00    Friday   \n",
              "7   2016-01-01   501  16:05:00    Friday   \n",
              "8   2016-01-01   506  16:27:00    Friday   \n",
              "9   2016-01-01   510  16:34:00    Friday   \n",
              "10  2016-01-01   501  16:44:00    Friday   \n",
              "11  2016-01-01   505  17:36:00    Friday   \n",
              "12  2016-01-01   506  19:15:00    Friday   \n",
              "13  2016-01-01   509  21:25:00    Friday   \n",
              "14  2016-01-01   511  22:54:00    Friday   \n",
              "15  2016-01-01   510  23:58:00    Friday   \n",
              "16  2016-01-02   501  01:00:00  Saturday   \n",
              "17  2016-01-02   501  06:01:00  Saturday   \n",
              "18  2016-01-02   504  06:51:00  Saturday   \n",
              "19  2016-01-02   504  06:55:00  Saturday   \n",
              "20  2016-01-02   501  08:04:00  Saturday   \n",
              "21  2016-01-02   512  08:12:00  Saturday   \n",
              "22  2016-01-02   506  08:45:00  Saturday   \n",
              "23  2016-01-02   506  12:26:00  Saturday   \n",
              "24  2016-01-02   504  13:00:00  Saturday   \n",
              "25  2016-01-02   506  19:24:00  Saturday   \n",
              "26  2016-01-02   510  19:39:00  Saturday   \n",
              "27  2016-01-02   501  19:50:00  Saturday   \n",
              "28  2016-01-02   504  22:00:00  Saturday   \n",
              "29  2016-01-02   501  22:50:00  Saturday   \n",
              "\n",
              "                                     Location            Incident  Min Delay  \\\n",
              "0   dundas west stationt to broadview station       General Delay        7.0   \n",
              "1                      fleet st. and strachan          Mechanical       10.0   \n",
              "2             queen st. west and roncesvalles          Mechanical        9.0   \n",
              "3           lake shore blvd. and superior st.          Mechanical       20.0   \n",
              "4                roncesvalles to neville park          Mechanical        6.0   \n",
              "5                      broadview station loop       Investigation        4.0   \n",
              "6                         broadview and queen          Mechanical        6.0   \n",
              "7                 roncesvalles to humber loop          Mechanical        6.0   \n",
              "8                                main station          Mechanical        8.0   \n",
              "9                    richmond st. and spadina           Diversion       41.0   \n",
              "10                     roncesvalles to humber          Mechanical        6.0   \n",
              "11              dundas st. west and huron st.             Held By        7.0   \n",
              "12                       bathurst and college  Utilized Off Route        7.0   \n",
              "13                                   cne loop          Mechanical       10.0   \n",
              "14                    bathurst and wellington             Held By       16.0   \n",
              "15                queen quay loop and spadina          Mechanical        6.0   \n",
              "16           roncesvallesue and the queensway          Mechanical       10.0   \n",
              "17                      queen and roncevalles          Mechanical        4.0   \n",
              "18                           king and spadina          Mechanical       32.0   \n",
              "19                           king and spadina          Mechanical       28.0   \n",
              "20                                humber loop          Mechanical        8.0   \n",
              "21                  deer park cr and st clair          Mechanical        9.0   \n",
              "22                        coxwell and gerrard          Mechanical        8.0   \n",
              "23                        coxwell and gerrard          Mechanical        6.0   \n",
              "24                               john-spadina       General Delay       10.0   \n",
              "25                        ashdale and gerrard          Mechanical       23.0   \n",
              "26                   spadina north of college       Investigation       66.0   \n",
              "27                            abell and queen          Mechanical        7.0   \n",
              "28                           jameson and king       Investigation       26.0   \n",
              "29              queen street and roncesvalles          Mechanical        9.0   \n",
              "\n",
              "    Min Gap Direction      Vehicle    Report Date Time  \\\n",
              "0      14.0         w         4028 2016-01-01 00:00:00   \n",
              "1      20.0         e         4018 2016-01-01 02:14:00   \n",
              "2      18.0         w         4201 2016-01-01 02:22:00   \n",
              "3      40.0         e         4251 2016-01-01 03:28:00   \n",
              "4      12.0         e         4242 2016-01-01 14:28:00   \n",
              "5      10.0         w         4187 2016-01-01 15:42:00   \n",
              "6      12.0         e         4181 2016-01-01 15:54:00   \n",
              "7      12.0         w         4245 2016-01-01 16:05:00   \n",
              "8      16.0         w         4092 2016-01-01 16:27:00   \n",
              "9      46.0         s  bad vehicle 2016-01-01 16:34:00   \n",
              "10     12.0         w         4220 2016-01-01 16:44:00   \n",
              "11     13.0         w         4039 2016-01-01 17:36:00   \n",
              "12     14.0         w         4095 2016-01-01 19:15:00   \n",
              "13     20.0         e         4406 2016-01-01 21:25:00   \n",
              "14     24.0         b         4095 2016-01-01 22:54:00   \n",
              "15     13.0         n         4132 2016-01-01 23:58:00   \n",
              "16     20.0         e         4223 2016-01-02 01:00:00   \n",
              "17     30.0         e         4247 2016-01-02 06:01:00   \n",
              "18     36.0         w         4186 2016-01-02 06:51:00   \n",
              "19     32.0         w         4154 2016-01-02 06:55:00   \n",
              "20     15.0         e         4208 2016-01-02 08:04:00   \n",
              "21     18.0         w         4040 2016-01-02 08:12:00   \n",
              "22     15.0         w         4055 2016-01-02 08:45:00   \n",
              "23     11.0         e         4125 2016-01-02 12:26:00   \n",
              "24     14.0         w  bad vehicle 2016-01-02 13:00:00   \n",
              "25     29.0         e         4042 2016-01-02 19:24:00   \n",
              "26     12.0         n         4124 2016-01-02 19:39:00   \n",
              "27     15.0         e         4237 2016-01-02 19:50:00   \n",
              "28     34.0         w         4187 2016-01-02 22:00:00   \n",
              "29     18.0         w         4207 2016-01-02 22:50:00   \n",
              "\n",
              "                            lat_long   latitude  longitude  \n",
              "0                         [0.0, 0.0]   0.000000   0.000000  \n",
              "1          [43.6362976, -79.4096351]  43.636298 -79.409635  \n",
              "2   [43.64533489999999, -79.4131843]  43.645335 -79.413184  \n",
              "3   [43.61496169999999, -79.4886581]  43.614962 -79.488658  \n",
              "4                         [0.0, 0.0]   0.000000   0.000000  \n",
              "5    [43.677135, -79.35820799999999]  43.677135 -79.358208  \n",
              "6   [43.6593626, -79.34769709999999]  43.659363 -79.347697  \n",
              "7                         [0.0, 0.0]   0.000000   0.000000  \n",
              "8          [43.6890219, -79.3016857]  43.689022 -79.301686  \n",
              "9   [43.6478469, -79.39588049999999]  43.647847 -79.395880  \n",
              "10                        [0.0, 0.0]   0.000000   0.000000  \n",
              "11          [43.653332, -79.3961386]  43.653332 -79.396139  \n",
              "12         [43.6564647, -79.4077012]  43.656465 -79.407701  \n",
              "13  [43.63441590000001, -79.4258807]  43.634416 -79.425881  \n",
              "14         [43.6426297, -79.4021618]  43.642630 -79.402162  \n",
              "15         [43.6384598, -79.3916564]  43.638460 -79.391656  \n",
              "16   [43.63878890000001, -79.446111]  43.638789 -79.446111  \n",
              "17  [43.64533489999999, -79.4131843]  43.645335 -79.413184  \n",
              "18         [43.6454419, -79.3951458]  43.645442 -79.395146  \n",
              "19         [43.6454419, -79.3951458]  43.645442 -79.395146  \n",
              "20   [43.63079099999999, -79.478622]  43.630791 -79.478622  \n",
              "21         [43.6872125, -79.3980108]  43.687213 -79.398011  \n",
              "22  [43.6753569, -79.32028249999999]  43.675357 -79.320282  \n",
              "23  [43.6753569, -79.32028249999999]  43.675357 -79.320282  \n",
              "24   [43.659681, -79.40069810000001]  43.659681 -79.400698  \n",
              "25  [43.6723671, -79.32211559999999]  43.672367 -79.322116  \n",
              "26         [43.6579365, -79.3999151]  43.657936 -79.399915  \n",
              "27         [43.6430758, -79.4243556]  43.643076 -79.424356  \n",
              "28         [43.6372723, -79.4358608]  43.637272 -79.435861  \n",
              "29         [43.6390997, -79.4451902]  43.639100 -79.445190  "
            ]
          },
          "execution_count": 30,
          "metadata": {},
          "output_type": "execute_result"
        }
      ]
    },
    {
      "cell_type": "code",
      "metadata": {
        "id": "Hs29qg348Cqd",
        "outputId": "f6293cc0-3c23-440b-e45f-a798ae22907f"
      },
      "source": [
        "df_out.shape"
      ],
      "execution_count": null,
      "outputs": [
        {
          "data": {
            "text/plain": [
              "(69603, 14)"
            ]
          },
          "execution_count": 25,
          "metadata": {},
          "output_type": "execute_result"
        }
      ]
    },
    {
      "cell_type": "code",
      "metadata": {
        "id": "vjBEJErx8Cqd",
        "outputId": "26867507-bfe6-424d-82b3-d869da1b4b58"
      },
      "source": [
        "print(\"잘못된 경로의 위도:\",df_out[df_out.latitude == 0.0].shape[0])"
      ],
      "execution_count": null,
      "outputs": [
        {
          "name": "stdout",
          "output_type": "stream",
          "text": [
            "Bad route latitude: 1675\n"
          ]
        }
      ]
    },
    {
      "cell_type": "markdown",
      "metadata": {
        "id": "ikPHt_UI8Cqe"
      },
      "source": [
        "# 잘못된 행 제거"
      ]
    },
    {
      "cell_type": "code",
      "metadata": {
        "id": "LqP6Gd-E8Cqe",
        "outputId": "484a198b-0673-4525-8fcf-5cdd44d9fdf7"
      },
      "source": [
        "print(\"데이터 정리 후 Location의 수:\",df['Location'].nunique())\n",
        "print(\"데이터 정리 후 Route의 수:\",df['Route'].nunique())\n",
        "print(\"데이터 정리 후 Direction의 수:\",df['Direction'].nunique())\n",
        "print(\"데이터 정리 후 Vehicle의 수:\",df['Vehicle'].nunique())\n",
        "# print(\"Bad Location count\":df[df.Vehicle == 'bad vehicle'].shape[0])\n",
        "print(\"잘못된 Route값(bad route)을 가진 데이터 수:\",df[df.Route == 'bad route'].shape[0])\n",
        "print(\"잘못된 Direction값(bad direction)을 가진 데이터 수:\",df[df.Direction == 'bad direction'].shape[0])\n",
        "print(\"잘못된 Vehicle값(bad vehicle)을 가진 데이터 수:\",df[df.Vehicle == 'bad vehicle'].shape[0])"
      ],
      "execution_count": null,
      "outputs": [
        {
          "name": "stdout",
          "output_type": "stream",
          "text": [
            "Location count post cleanup: 10074\n",
            "Route count post cleanup: 15\n",
            "Direction count post cleanup: 6\n",
            "Vehicle count post cleanup: 1017\n",
            "Bad route count: 3091\n",
            "Bad direction count: 334\n",
            "Bad vehicle count: 14480\n"
          ]
        }
      ]
    },
    {
      "cell_type": "code",
      "metadata": {
        "id": "nKB8lTgl8Cqe"
      },
      "source": [
        "# 잘못된 값(bad xxx)을 가진 행들을 제거합니다\n",
        "if remove_bad_values:\n",
        "    df = df[df.Vehicle != 'bad vehicle']\n",
        "    df = df[df.Direction != 'bad direction']\n",
        "    df = df[df.Route != 'bad route']"
      ],
      "execution_count": null,
      "outputs": []
    },
    {
      "cell_type": "code",
      "metadata": {
        "id": "dZlEa3GT8Cqe",
        "outputId": "51fc3b13-8f6a-4530-97ae-44359a14f49a"
      },
      "source": [
        "df.shape"
      ],
      "execution_count": null,
      "outputs": [
        {
          "data": {
            "text/plain": [
              "(66095, 11)"
            ]
          },
          "execution_count": 56,
          "metadata": {},
          "output_type": "execute_result"
        }
      ]
    },
    {
      "cell_type": "code",
      "metadata": {
        "id": "6a-v29M38Cqe",
        "outputId": "e8a2edd8-371a-4787-9c2a-a0c8e17e9864"
      },
      "source": [
        "pickled_output_dataframe"
      ],
      "execution_count": null,
      "outputs": [
        {
          "data": {
            "text/plain": [
              "'2014_2018_df_cleaned_keep_bad_loc_geocoded_apr23.pkl'"
            ]
          },
          "execution_count": 26,
          "metadata": {},
          "output_type": "execute_result"
        }
      ]
    },
    {
      "cell_type": "code",
      "metadata": {
        "id": "6xiPkQua8Cqe"
      },
      "source": [
        "# 정리된 데이터프레임을 피클로 저장합니다\n",
        "file_name = path + pickled_output_dataframe\n",
        "df_out.to_pickle(file_name)"
      ],
      "execution_count": null,
      "outputs": []
    },
    {
      "cell_type": "code",
      "metadata": {
        "id": "2xUNn7eG8Cqe",
        "outputId": "3c23e886-4d0d-483f-a414-82ae4d130f66"
      },
      "source": [
        "dfn = pd.read_pickle(file_name)\n",
        "dfn.head()"
      ],
      "execution_count": null,
      "outputs": [
        {
          "data": {
            "text/html": [
              "<div>\n",
              "<style scoped>\n",
              "    .dataframe tbody tr th:only-of-type {\n",
              "        vertical-align: middle;\n",
              "    }\n",
              "\n",
              "    .dataframe tbody tr th {\n",
              "        vertical-align: top;\n",
              "    }\n",
              "\n",
              "    .dataframe thead th {\n",
              "        text-align: right;\n",
              "    }\n",
              "</style>\n",
              "<table border=\"1\" class=\"dataframe\">\n",
              "  <thead>\n",
              "    <tr style=\"text-align: right;\">\n",
              "      <th></th>\n",
              "      <th>Report Date</th>\n",
              "      <th>Route</th>\n",
              "      <th>Time</th>\n",
              "      <th>Day</th>\n",
              "      <th>Location</th>\n",
              "      <th>Incident</th>\n",
              "      <th>Min Delay</th>\n",
              "      <th>Min Gap</th>\n",
              "      <th>Direction</th>\n",
              "      <th>Vehicle</th>\n",
              "      <th>Report Date Time</th>\n",
              "      <th>lat_long</th>\n",
              "      <th>latitude</th>\n",
              "      <th>longitude</th>\n",
              "    </tr>\n",
              "  </thead>\n",
              "  <tbody>\n",
              "    <tr>\n",
              "      <th>0</th>\n",
              "      <td>2016-01-01</td>\n",
              "      <td>505</td>\n",
              "      <td>00:00:00</td>\n",
              "      <td>Friday</td>\n",
              "      <td>dundas west stationt to broadview station</td>\n",
              "      <td>General Delay</td>\n",
              "      <td>7.0</td>\n",
              "      <td>14.0</td>\n",
              "      <td>w</td>\n",
              "      <td>4028</td>\n",
              "      <td>2016-01-01 00:00:00</td>\n",
              "      <td>[0.0, 0.0]</td>\n",
              "      <td>0.000000</td>\n",
              "      <td>0.000000</td>\n",
              "    </tr>\n",
              "    <tr>\n",
              "      <th>1</th>\n",
              "      <td>2016-01-01</td>\n",
              "      <td>511</td>\n",
              "      <td>02:14:00</td>\n",
              "      <td>Friday</td>\n",
              "      <td>fleet st. and strachan</td>\n",
              "      <td>Mechanical</td>\n",
              "      <td>10.0</td>\n",
              "      <td>20.0</td>\n",
              "      <td>e</td>\n",
              "      <td>4018</td>\n",
              "      <td>2016-01-01 02:14:00</td>\n",
              "      <td>[43.6362976, -79.4096351]</td>\n",
              "      <td>43.636298</td>\n",
              "      <td>-79.409635</td>\n",
              "    </tr>\n",
              "    <tr>\n",
              "      <th>2</th>\n",
              "      <td>2016-01-01</td>\n",
              "      <td>301</td>\n",
              "      <td>02:22:00</td>\n",
              "      <td>Friday</td>\n",
              "      <td>queen st. west and roncesvalles</td>\n",
              "      <td>Mechanical</td>\n",
              "      <td>9.0</td>\n",
              "      <td>18.0</td>\n",
              "      <td>w</td>\n",
              "      <td>4201</td>\n",
              "      <td>2016-01-01 02:22:00</td>\n",
              "      <td>[43.64533489999999, -79.4131843]</td>\n",
              "      <td>43.645335</td>\n",
              "      <td>-79.413184</td>\n",
              "    </tr>\n",
              "    <tr>\n",
              "      <th>3</th>\n",
              "      <td>2016-01-01</td>\n",
              "      <td>301</td>\n",
              "      <td>03:28:00</td>\n",
              "      <td>Friday</td>\n",
              "      <td>lake shore blvd. and superior st.</td>\n",
              "      <td>Mechanical</td>\n",
              "      <td>20.0</td>\n",
              "      <td>40.0</td>\n",
              "      <td>e</td>\n",
              "      <td>4251</td>\n",
              "      <td>2016-01-01 03:28:00</td>\n",
              "      <td>[43.61496169999999, -79.4886581]</td>\n",
              "      <td>43.614962</td>\n",
              "      <td>-79.488658</td>\n",
              "    </tr>\n",
              "    <tr>\n",
              "      <th>4</th>\n",
              "      <td>2016-01-01</td>\n",
              "      <td>501</td>\n",
              "      <td>14:28:00</td>\n",
              "      <td>Friday</td>\n",
              "      <td>roncesvalles to neville park</td>\n",
              "      <td>Mechanical</td>\n",
              "      <td>6.0</td>\n",
              "      <td>12.0</td>\n",
              "      <td>e</td>\n",
              "      <td>4242</td>\n",
              "      <td>2016-01-01 14:28:00</td>\n",
              "      <td>[0.0, 0.0]</td>\n",
              "      <td>0.000000</td>\n",
              "      <td>0.000000</td>\n",
              "    </tr>\n",
              "  </tbody>\n",
              "</table>\n",
              "</div>"
            ],
            "text/plain": [
              "  Report Date Route      Time     Day  \\\n",
              "0  2016-01-01   505  00:00:00  Friday   \n",
              "1  2016-01-01   511  02:14:00  Friday   \n",
              "2  2016-01-01   301  02:22:00  Friday   \n",
              "3  2016-01-01   301  03:28:00  Friday   \n",
              "4  2016-01-01   501  14:28:00  Friday   \n",
              "\n",
              "                                    Location       Incident  Min Delay  \\\n",
              "0  dundas west stationt to broadview station  General Delay        7.0   \n",
              "1                     fleet st. and strachan     Mechanical       10.0   \n",
              "2            queen st. west and roncesvalles     Mechanical        9.0   \n",
              "3          lake shore blvd. and superior st.     Mechanical       20.0   \n",
              "4               roncesvalles to neville park     Mechanical        6.0   \n",
              "\n",
              "   Min Gap Direction Vehicle    Report Date Time  \\\n",
              "0     14.0         w    4028 2016-01-01 00:00:00   \n",
              "1     20.0         e    4018 2016-01-01 02:14:00   \n",
              "2     18.0         w    4201 2016-01-01 02:22:00   \n",
              "3     40.0         e    4251 2016-01-01 03:28:00   \n",
              "4     12.0         e    4242 2016-01-01 14:28:00   \n",
              "\n",
              "                           lat_long   latitude  longitude  \n",
              "0                        [0.0, 0.0]   0.000000   0.000000  \n",
              "1         [43.6362976, -79.4096351]  43.636298 -79.409635  \n",
              "2  [43.64533489999999, -79.4131843]  43.645335 -79.413184  \n",
              "3  [43.61496169999999, -79.4886581]  43.614962 -79.488658  \n",
              "4                        [0.0, 0.0]   0.000000   0.000000  "
            ]
          },
          "execution_count": 28,
          "metadata": {},
          "output_type": "execute_result"
        }
      ]
    },
    {
      "cell_type": "code",
      "metadata": {
        "id": "iu1VT0Cb8Cqf",
        "outputId": "6aeed41e-85c7-4f3b-fb29-1d10fe28d72e"
      },
      "source": [
        "dfn.shape"
      ],
      "execution_count": null,
      "outputs": [
        {
          "data": {
            "text/plain": [
              "(69603, 14)"
            ]
          },
          "execution_count": 29,
          "metadata": {},
          "output_type": "execute_result"
        }
      ]
    },
    {
      "cell_type": "code",
      "metadata": {
        "id": "JjdpzfKh8Cqf"
      },
      "source": [
        "file_outname = \"2014_2018_df_cleaned_keep_bad_loc_geocoded_apr29.csv\"\n",
        "dfn.to_csv(path+file_outname)"
      ],
      "execution_count": null,
      "outputs": []
    },
    {
      "cell_type": "markdown",
      "metadata": {
        "id": "QGN5UjYS8Cqf"
      },
      "source": [
        "# 정리된 데이터의 시각화"
      ]
    },
    {
      "cell_type": "code",
      "metadata": {
        "id": "IbaCM_bU8Cqf",
        "outputId": "f07e699a-a243-4eb6-943b-f9c2f2b5d5d8",
        "colab": {
          "base_uri": "https://localhost:8080/"
        }
      },
      "source": [
        "!pip install pixiedust"
      ],
      "execution_count": 17,
      "outputs": [
        {
          "output_type": "stream",
          "name": "stdout",
          "text": [
            "Collecting pixiedust\n",
            "  Downloading pixiedust-1.1.19.tar.gz (197 kB)\n",
            "\u001b[K     |████████████████████████████████| 197 kB 2.6 MB/s \n",
            "\u001b[?25hCollecting geojson\n",
            "  Downloading geojson-2.5.0-py2.py3-none-any.whl (14 kB)\n",
            "Requirement already satisfied: astunparse in /usr/local/lib/python3.7/dist-packages (from pixiedust) (1.6.3)\n",
            "Requirement already satisfied: markdown in /usr/local/lib/python3.7/dist-packages (from pixiedust) (3.3.4)\n",
            "Collecting colour\n",
            "  Downloading colour-0.1.5-py2.py3-none-any.whl (23 kB)\n",
            "Requirement already satisfied: requests in /usr/local/lib/python3.7/dist-packages (from pixiedust) (2.23.0)\n",
            "Requirement already satisfied: matplotlib in /usr/local/lib/python3.7/dist-packages (from pixiedust) (3.2.2)\n",
            "Requirement already satisfied: pandas in /usr/local/lib/python3.7/dist-packages (from pixiedust) (1.1.5)\n",
            "Requirement already satisfied: wheel<1.0,>=0.23.0 in /usr/local/lib/python3.7/dist-packages (from astunparse->pixiedust) (0.37.0)\n",
            "Requirement already satisfied: six<2.0,>=1.6.1 in /usr/local/lib/python3.7/dist-packages (from astunparse->pixiedust) (1.15.0)\n",
            "Requirement already satisfied: importlib-metadata in /usr/local/lib/python3.7/dist-packages (from markdown->pixiedust) (4.8.1)\n",
            "Requirement already satisfied: typing-extensions>=3.6.4 in /usr/local/lib/python3.7/dist-packages (from importlib-metadata->markdown->pixiedust) (3.10.0.2)\n",
            "Requirement already satisfied: zipp>=0.5 in /usr/local/lib/python3.7/dist-packages (from importlib-metadata->markdown->pixiedust) (3.6.0)\n",
            "Requirement already satisfied: numpy>=1.11 in /usr/local/lib/python3.7/dist-packages (from matplotlib->pixiedust) (1.19.5)\n",
            "Requirement already satisfied: kiwisolver>=1.0.1 in /usr/local/lib/python3.7/dist-packages (from matplotlib->pixiedust) (1.3.2)\n",
            "Requirement already satisfied: cycler>=0.10 in /usr/local/lib/python3.7/dist-packages (from matplotlib->pixiedust) (0.11.0)\n",
            "Requirement already satisfied: pyparsing!=2.0.4,!=2.1.2,!=2.1.6,>=2.0.1 in /usr/local/lib/python3.7/dist-packages (from matplotlib->pixiedust) (2.4.7)\n",
            "Requirement already satisfied: python-dateutil>=2.1 in /usr/local/lib/python3.7/dist-packages (from matplotlib->pixiedust) (2.8.2)\n",
            "Requirement already satisfied: pytz>=2017.2 in /usr/local/lib/python3.7/dist-packages (from pandas->pixiedust) (2018.9)\n",
            "Requirement already satisfied: chardet<4,>=3.0.2 in /usr/local/lib/python3.7/dist-packages (from requests->pixiedust) (3.0.4)\n",
            "Requirement already satisfied: certifi>=2017.4.17 in /usr/local/lib/python3.7/dist-packages (from requests->pixiedust) (2021.10.8)\n",
            "Requirement already satisfied: idna<3,>=2.5 in /usr/local/lib/python3.7/dist-packages (from requests->pixiedust) (2.10)\n",
            "Requirement already satisfied: urllib3!=1.25.0,!=1.25.1,<1.26,>=1.21.1 in /usr/local/lib/python3.7/dist-packages (from requests->pixiedust) (1.24.3)\n",
            "Building wheels for collected packages: pixiedust\n",
            "  Building wheel for pixiedust (setup.py) ... \u001b[?25l\u001b[?25hdone\n",
            "  Created wheel for pixiedust: filename=pixiedust-1.1.19-py3-none-any.whl size=321804 sha256=932d58d1c96aa8ac65376566dd2ec22186ab9cfb673bc8c11c256ef6d3169c3d\n",
            "  Stored in directory: /root/.cache/pip/wheels/05/07/e7/8aca0e820027a63157a916424fd748fb2a2a3e71de5e08eeb8\n",
            "Successfully built pixiedust\n",
            "Installing collected packages: geojson, colour, pixiedust\n",
            "Successfully installed colour-0.1.5 geojson-2.5.0 pixiedust-1.1.19\n"
          ]
        }
      ]
    },
    {
      "cell_type": "code",
      "metadata": {
        "id": "mQUAmntE8Cqf",
        "outputId": "e3bd1883-5f8d-4539-f726-a20db14d19d4",
        "colab": {
          "base_uri": "https://localhost:8080/",
          "height": 477
        }
      },
      "source": [
        "import pixiedust"
      ],
      "execution_count": 18,
      "outputs": [
        {
          "output_type": "stream",
          "name": "stdout",
          "text": [
            "Pixiedust database opened successfully\n",
            "Table VERSION_TRACKER created successfully\n",
            "Table METRICS_TRACKER created successfully\n",
            "\n",
            "Share anonymous install statistics? (opt-out instructions)\n",
            "\n",
            "PixieDust will record metadata on its environment the next time the package is installed or updated. The data is anonymized and aggregated to help plan for future releases, and records only the following values:\n",
            "\n",
            "{\n",
            "   \"data_sent\": currentDate,\n",
            "   \"runtime\": \"python\",\n",
            "   \"application_version\": currentPixiedustVersion,\n",
            "   \"space_id\": nonIdentifyingUniqueId,\n",
            "   \"config\": {\n",
            "       \"repository_id\": \"https://github.com/ibm-watson-data-lab/pixiedust\",\n",
            "       \"target_runtimes\": [\"Data Science Experience\"],\n",
            "       \"event_id\": \"web\",\n",
            "       \"event_organizer\": \"dev-journeys\"\n",
            "   }\n",
            "}\n",
            "You can opt out by calling pixiedust.optOut() in a new cell.\n"
          ]
        },
        {
          "output_type": "display_data",
          "data": {
            "text/html": [
              "\n",
              "        <div style=\"margin:10px\">\n",
              "            <a href=\"https://github.com/ibm-watson-data-lab/pixiedust\" target=\"_new\">\n",
              "                <img src=\"https://github.com/ibm-watson-data-lab/pixiedust/raw/master/docs/_static/pd_icon32.png\" style=\"float:left;margin-right:10px\"/>\n",
              "            </a>\n",
              "            <span>Pixiedust version 1.1.19</span>\n",
              "        </div>\n",
              "        "
            ],
            "text/plain": [
              "<IPython.core.display.HTML object>"
            ]
          },
          "metadata": {}
        },
        {
          "output_type": "stream",
          "name": "stdout",
          "text": [
            "\u001b[31mPixiedust runtime updated. Please restart kernel\u001b[0m\n",
            "Table USER_PREFERENCES created successfully\n",
            "Table service_connections created successfully\n"
          ]
        }
      ]
    },
    {
      "cell_type": "code",
      "metadata": {
        "id": "fp2ErM5cB6us"
      },
      "source": [
        "file_outname = \"2014_2018_df_cleaned_keep_bad_loc_geocoded_apr29.csv\"\n",
        "df = pd.read_csv(path+'/'+file_outname)"
      ],
      "execution_count": null,
      "outputs": []
    },
    {
      "cell_type": "code",
      "metadata": {
        "pixiedust": {
          "displayParams": {
            "binsize": "23",
            "chartsize": "70",
            "handlerId": "barChart",
            "keyFields": "Route",
            "mapboxtoken": "pk.eyJ1Ijoicnlhbm1hcmsiLCJhIjoiY2pvM2JnZmE0MHY5dzNxcXM0Zmw3c2RwZSJ9.k-PhU8qMVztXtdyuX2Yjpw",
            "sortby": "Values DESC",
            "stretch": "false",
            "tableFields": "Day",
            "valueFields": "Min Delay"
          }
        },
        "scrolled": false,
        "id": "xIXTjCBL8Cqf"
      },
      "source": [
        "display(df)"
      ],
      "execution_count": null,
      "outputs": []
    }
  ]
}